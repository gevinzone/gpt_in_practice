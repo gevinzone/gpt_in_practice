{
 "cells": [
  {
   "cell_type": "code",
   "id": "initial_id",
   "metadata": {
    "collapsed": true
   },
   "source": "!pip install openai==1.31.0",
   "outputs": [],
   "execution_count": null
  },
  {
   "metadata": {},
   "cell_type": "code",
   "source": [
    "import os\n",
    "\n",
    "print(os.environ.get('OPENAI_API_TYPE'))\n",
    "print(os.environ.get('OPENAI_API_VERSION'))\n",
    "print(os.environ.get('OPENAI_API_BASE'))\n",
    "\n",
    "# print(os.environ)"
   ],
   "id": "10b48477560cf7a",
   "outputs": [],
   "execution_count": null
  },
  {
   "metadata": {},
   "cell_type": "code",
   "source": [
    "deployment = \"gpt-4o\"\n",
    "model = \"gpt-4o\""
   ],
   "id": "d2081f2d7b0e6853",
   "outputs": [],
   "execution_count": null
  },
  {
   "metadata": {},
   "cell_type": "markdown",
   "source": [
    "\n",
    "# Hello GPT-4\n"
   ],
   "id": "77b3abc61c0114a"
  },
  {
   "metadata": {
    "ExecuteTime": {
     "end_time": "2024-06-04T14:38:03.452315Z",
     "start_time": "2024-06-04T14:38:00.502553Z"
    }
   },
   "cell_type": "code",
   "source": [
    "# openai < 1.0.0 时的写法\n",
    "\n",
    "# import openai\n",
    "# response = openai.ChatCompletion.create(\n",
    "#     engine=deployment, # 直接使用 OpenAI 的 API 时，不需要指定 engine\n",
    "#     model=model,\n",
    "#     max_tokens=2000,\n",
    "#     # top_p=1, # top_p 越高，生成的文本越随机\n",
    "#     temperature=0.9, # temperature 越高，生成的文本越随机\n",
    "#     n = 3, # n 表示生成多少个文本\n",
    "#     message=[\n",
    "#         {\"role\": \"system\", \"content\": \"You are a helpful assistant. You can help me by answering my questions. You can also ask me questions.\"},\n",
    "#         {\"role\": \"user\", \"content\": \"What is your name?\"},\n",
    "#     ]\n",
    "# )\n",
    "\n",
    "# from openai import OpenAI\n",
    "# client = OpenAI(\n",
    "#     api_key=os.environ['OPENAI_API_KEY']\n",
    "# )\n",
    "\n",
    "import os\n",
    "from openai import AzureOpenAI\n",
    "\n",
    "client = AzureOpenAI(\n",
    "    api_key=os.getenv(\"OPENAI_API_KEY\"),\n",
    "    api_version=os.getenv(\"OPENAI_API_VERSION\"),\n",
    "    azure_endpoint=os.getenv(\"OPENAI_API_BASE\")\n",
    ")\n",
    "\n",
    "response = client.chat.completions.create(\n",
    "    model=deployment,\n",
    "    messages=[\n",
    "        {\"role\": \"system\",\n",
    "         \"content\": \"You are a helpful assistant. You can help me by answering my questions. You can also ask me questions.\"},\n",
    "        {\"role\": \"user\", \"content\": \"你好！你叫什么名字？\"}\n",
    "    ],\n",
    "    n=2,\n",
    "    temperature=0.9,\n",
    "    max_tokens=1000, )\n",
    "\n",
    "print(response)\n",
    "\n"
   ],
   "id": "2761f6b16b77ccfd",
   "outputs": [
    {
     "name": "stdout",
     "output_type": "stream",
     "text": [
      "ChatCompletion(id='chatcmpl-9WPaU3eqintCqlJpE28WwlJUSUGRb', choices=[Choice(finish_reason='stop', index=0, logprobs=None, message=ChatCompletionMessage(content='你好！我是一个人工智能助手，你可以叫我助手。有什么我可以帮你的吗？', role='assistant', function_call=None, tool_calls=None)), Choice(finish_reason='stop', index=1, logprobs=None, message=ChatCompletionMessage(content='你好！我是一个人工智能助手，没有具体的名字。你可以叫我助手或者任何你喜欢的名字。有什么我可以帮你的吗？', role='assistant', function_call=None, tool_calls=None))], created=1717511882, model='gpt-4o-2024-05-13', object='chat.completion', system_fingerprint='fp_5f4bad809a', usage=CompletionUsage(completion_tokens=51, prompt_tokens=39, total_tokens=90))\n"
     ]
    }
   ],
   "execution_count": 24
  },
  {
   "metadata": {
    "ExecuteTime": {
     "end_time": "2024-06-04T14:38:08.127843Z",
     "start_time": "2024-06-04T14:38:08.124743Z"
    }
   },
   "cell_type": "code",
   "source": [
    "# print(response.choices)\n",
    "for choice in response.choices:\n",
    "    print(choice.finish_reason, choice.message.content)"
   ],
   "id": "a94e0fce0fd789e1",
   "outputs": [
    {
     "name": "stdout",
     "output_type": "stream",
     "text": [
      "stop 你好！我是一个人工智能助手，你可以叫我助手。有什么我可以帮你的吗？\n",
      "stop 你好！我是一个人工智能助手，没有具体的名字。你可以叫我助手或者任何你喜欢的名字。有什么我可以帮你的吗？\n"
     ]
    }
   ],
   "execution_count": 25
  },
  {
   "metadata": {},
   "cell_type": "markdown",
   "source": "# Token",
   "id": "d429fa2691a9fba2"
  },
  {
   "metadata": {},
   "cell_type": "code",
   "source": "! pip install tiktoken",
   "id": "268f13820c3a4e52",
   "outputs": [],
   "execution_count": null
  },
  {
   "metadata": {
    "ExecuteTime": {
     "end_time": "2024-06-04T14:38:11.943418Z",
     "start_time": "2024-06-04T14:38:11.940046Z"
    }
   },
   "cell_type": "code",
   "source": [
    "import tiktoken\n",
    "\n",
    "encoding = tiktoken.encoding_for_model(\"gpt-4o\")\n",
    "chinese = \"\"\"在未来还没有到来的时候，总要有人把它创造出来，那个人应该是我们。\"\"\"\n",
    "\n",
    "tokens = encoding.encode(chinese)\n",
    "print(tokens)\n",
    "\n",
    "num_of_tokens_in_chinese = len(tokens)\n",
    "\n",
    "print(f\"chinese:{chinese} ; {num_of_tokens_in_chinese} tokens\\n\")"
   ],
   "id": "95c220e50e9cf7c2",
   "outputs": [
    {
     "name": "stdout",
     "output_type": "stream",
     "text": [
      "[2178, 66231, 16669, 23714, 6946, 102135, 45987, 123948, 7724, 82766, 32180, 46569, 158127, 80633, 117401, 45419, 118981, 3221, 24809, 788]\n",
      "chinese:在未来还没有到来的时候，总要有人把它创造出来，那个人应该是我们。 ; 20 tokens\n",
      "\n"
     ]
    }
   ],
   "execution_count": 26
  },
  {
   "metadata": {},
   "cell_type": "code",
   "source": "",
   "id": "fa3fa6beebaad4c1",
   "outputs": [],
   "execution_count": null
  }
 ],
 "metadata": {
  "kernelspec": {
   "display_name": "Python 3",
   "language": "python",
   "name": "python3"
  },
  "language_info": {
   "codemirror_mode": {
    "name": "ipython",
    "version": 2
   },
   "file_extension": ".py",
   "mimetype": "text/x-python",
   "name": "python",
   "nbconvert_exporter": "python",
   "pygments_lexer": "ipython2",
   "version": "2.7.6"
  }
 },
 "nbformat": 4,
 "nbformat_minor": 5
}
